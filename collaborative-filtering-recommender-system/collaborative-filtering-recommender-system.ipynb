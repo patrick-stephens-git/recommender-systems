{
 "cells": [
  {
   "cell_type": "code",
   "execution_count": null,
   "id": "43ebe423",
   "metadata": {},
   "outputs": [],
   "source": [
    "from scipy.sparse.linalg import svds\n",
    "from scipy.sparse import csr_matrix\n",
    "import pandas as pd\n",
    "import numpy as np\n",
    "\n",
    "# Don't collapse Pandas Dataframes:\n",
    "pd.set_option('display.max_rows', None)\n",
    "pd.set_option('display.max_columns', None)\n",
    "pd.set_option('display.max_colwidth', None)"
   ]
  },
  {
   "cell_type": "code",
   "execution_count": null,
   "id": "a1bfb02e",
   "metadata": {},
   "outputs": [],
   "source": [
    "def normalize(predicted_ratings):\n",
    "    normalized_predicted_ratings = (predicted_ratings - predicted_ratings.min()) / (predicted_ratings.max() - predicted_ratings.min())\n",
    "    return normalized_predicted_ratings\n",
    "  \n",
    "def generate_prediction_df(values, df, n_factors):\n",
    "    ## Matrix Factorization\n",
    "    u, s, v = svds(values, k = n_factors)\n",
    "    s = np.diag(s)\n",
    "\n",
    "    ## Calculate Predicted User Ratings\n",
    "    pred_ratings = np.dot(np.dot(u, s), v) \n",
    "    pred_ratings = normalize(pred_ratings)\n",
    "    predictions_df = pd.DataFrame(pred_ratings,\n",
    "                                  columns = df.columns,\n",
    "                                  index = list(df.index)).transpose()\n",
    "    return predictions_df\n",
    "\n",
    "def recommend_items(predictions_df, user_id, number_of_recommendations):\n",
    "    user_predictions_df = predictions_df[user_id].sort_values(ascending = False).reset_index().rename(columns = {user_id : 'Similarity Score'})\n",
    "    user_recommendations_df = user_predictions_df.sort_values(by='Similarity Score', ascending = False).head(number_of_recommendations)\n",
    "    return user_recommendations_df\n"
   ]
  },
  {
   "cell_type": "code",
   "execution_count": null,
   "id": "1499a82a",
   "metadata": {
    "scrolled": false
   },
   "outputs": [],
   "source": [
    "## Import Dataset\n",
    "df = pd.read_csv('dataset.csv')\n",
    "print('Dataset Shape: {0}'.format(df.shape))\n",
    "df.sort_values(['user_id'], ascending=False).head(10)"
   ]
  },
  {
   "cell_type": "code",
   "execution_count": null,
   "id": "931a3b61",
   "metadata": {},
   "outputs": [],
   "source": [
    "## Generate a pivot table\n",
    "pivot_df = df.pivot_table(columns = 'book_id', \n",
    "                            index = 'user_id', \n",
    "                           values = 'book_rating').fillna(0)\n",
    "pivot_df.head()"
   ]
  },
  {
   "cell_type": "code",
   "execution_count": null,
   "id": "de20c97b",
   "metadata": {},
   "outputs": [],
   "source": [
    "## Build csr matrix: (compressed sparse row)\n",
    "df_values = pivot_df.values\n",
    "values = csr_matrix(df_values)\n",
    "n_factors = 10 # Number of singular values and vectors to compute\n",
    "predictions_df = generate_prediction_df(values, pivot_df, n_factors)\n",
    "predictions_df.head()"
   ]
  },
  {
   "cell_type": "code",
   "execution_count": null,
   "id": "9ef96e12",
   "metadata": {},
   "outputs": [],
   "source": [
    "## Generate user recommendations\n",
    "user_id = 1001\n",
    "number_of_recommendations = 10\n",
    "user_recommendations = recommend_items(predictions_df, user_id, number_of_recommendations)\n",
    "user_recommendations"
   ]
  },
  {
   "cell_type": "code",
   "execution_count": null,
   "id": "8eaab41e",
   "metadata": {},
   "outputs": [],
   "source": [
    "## Generate user recommendations\n",
    "user_id = 24854\n",
    "number_of_recommendations = 10\n",
    "user_recommendations = recommend_items(predictions_df, user_id, number_of_recommendations)\n",
    "user_recommendations"
   ]
  },
  {
   "cell_type": "code",
   "execution_count": null,
   "id": "8b98fd1b",
   "metadata": {},
   "outputs": [],
   "source": [
    "## Generate user recommendations\n",
    "user_id = 23112\n",
    "number_of_recommendations = 10\n",
    "user_recommendations = recommend_items(predictions_df, user_id, number_of_recommendations)\n",
    "user_recommendations"
   ]
  },
  {
   "cell_type": "code",
   "execution_count": null,
   "id": "f4129207",
   "metadata": {},
   "outputs": [],
   "source": [
    "## Generate user recommendations\n",
    "user_id = 4987\n",
    "number_of_recommendations = 10\n",
    "user_recommendations = recommend_items(predictions_df, user_id, number_of_recommendations)\n",
    "user_recommendations"
   ]
  },
  {
   "cell_type": "code",
   "execution_count": null,
   "id": "c0617c68",
   "metadata": {},
   "outputs": [],
   "source": []
  },
  {
   "cell_type": "code",
   "execution_count": null,
   "id": "006d7c8f",
   "metadata": {},
   "outputs": [],
   "source": []
  },
  {
   "cell_type": "code",
   "execution_count": null,
   "id": "768bdc8b",
   "metadata": {},
   "outputs": [],
   "source": []
  }
 ],
 "metadata": {
  "kernelspec": {
   "display_name": "Python 3 (ipykernel)",
   "language": "python",
   "name": "python3"
  },
  "language_info": {
   "codemirror_mode": {
    "name": "ipython",
    "version": 3
   },
   "file_extension": ".py",
   "mimetype": "text/x-python",
   "name": "python",
   "nbconvert_exporter": "python",
   "pygments_lexer": "ipython3",
   "version": "3.9.7"
  }
 },
 "nbformat": 4,
 "nbformat_minor": 5
}
